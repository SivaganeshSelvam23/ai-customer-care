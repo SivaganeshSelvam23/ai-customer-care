{
 "cells": [
  {
   "cell_type": "code",
   "execution_count": 11,
   "id": "41bc0753",
   "metadata": {},
   "outputs": [],
   "source": [
    "import pandas as pd\n",
    "import matplotlib.pyplot as plt\n",
    "import seaborn as sns\n",
    "import ast\n",
    "from collections import Counter"
   ]
  },
  {
   "cell_type": "code",
   "execution_count": 12,
   "id": "70ef462f",
   "metadata": {},
   "outputs": [
    {
     "name": "stdout",
     "output_type": "stream",
     "text": [
      "✅ Data Loaded\n"
     ]
    },
    {
     "data": {
      "text/html": [
       "<div>\n",
       "<style scoped>\n",
       "    .dataframe tbody tr th:only-of-type {\n",
       "        vertical-align: middle;\n",
       "    }\n",
       "\n",
       "    .dataframe tbody tr th {\n",
       "        vertical-align: top;\n",
       "    }\n",
       "\n",
       "    .dataframe thead th {\n",
       "        text-align: right;\n",
       "    }\n",
       "</style>\n",
       "<table border=\"1\" class=\"dataframe\">\n",
       "  <thead>\n",
       "    <tr style=\"text-align: right;\">\n",
       "      <th></th>\n",
       "      <th>dialog</th>\n",
       "      <th>act</th>\n",
       "      <th>emotion</th>\n",
       "    </tr>\n",
       "  </thead>\n",
       "  <tbody>\n",
       "    <tr>\n",
       "      <th>0</th>\n",
       "      <td>['Say , Jim , how about going for a few beers ...</td>\n",
       "      <td>[3, 4, 2, 2, 2, 3, 4, 1, 3, 4]</td>\n",
       "      <td>[0, 0, 0, 0, 0, 0, 4, 4, 4, 4]</td>\n",
       "    </tr>\n",
       "    <tr>\n",
       "      <th>1</th>\n",
       "      <td>['Can you do push-ups ? ', \" Of course I can ....</td>\n",
       "      <td>[2, 1, 2, 2, 1, 1]</td>\n",
       "      <td>[0, 0, 6, 0, 0, 0]</td>\n",
       "    </tr>\n",
       "    <tr>\n",
       "      <th>2</th>\n",
       "      <td>['Can you study with the radio on ? ', ' No , ...</td>\n",
       "      <td>[2, 1, 2, 1, 1]</td>\n",
       "      <td>[0, 0, 0, 0, 0]</td>\n",
       "    </tr>\n",
       "    <tr>\n",
       "      <th>3</th>\n",
       "      <td>['Are you all right ? ', ' I will be all right...</td>\n",
       "      <td>[2, 1, 1, 1]</td>\n",
       "      <td>[0, 0, 0, 0]</td>\n",
       "    </tr>\n",
       "    <tr>\n",
       "      <th>4</th>\n",
       "      <td>['Hey John , nice skates . Are they new ? ', '...</td>\n",
       "      <td>[2, 1, 2, 1, 1, 2, 1, 3, 4]</td>\n",
       "      <td>[0, 0, 0, 0, 0, 6, 0, 6, 0]</td>\n",
       "    </tr>\n",
       "  </tbody>\n",
       "</table>\n",
       "</div>"
      ],
      "text/plain": [
       "                                              dialog  \\\n",
       "0  ['Say , Jim , how about going for a few beers ...   \n",
       "1  ['Can you do push-ups ? ', \" Of course I can ....   \n",
       "2  ['Can you study with the radio on ? ', ' No , ...   \n",
       "3  ['Are you all right ? ', ' I will be all right...   \n",
       "4  ['Hey John , nice skates . Are they new ? ', '...   \n",
       "\n",
       "                              act                         emotion  \n",
       "0  [3, 4, 2, 2, 2, 3, 4, 1, 3, 4]  [0, 0, 0, 0, 0, 0, 4, 4, 4, 4]  \n",
       "1              [2, 1, 2, 2, 1, 1]              [0, 0, 6, 0, 0, 0]  \n",
       "2                 [2, 1, 2, 1, 1]                 [0, 0, 0, 0, 0]  \n",
       "3                    [2, 1, 1, 1]                    [0, 0, 0, 0]  \n",
       "4     [2, 1, 2, 1, 1, 2, 1, 3, 4]     [0, 0, 0, 0, 0, 6, 0, 6, 0]  "
      ]
     },
     "metadata": {},
     "output_type": "display_data"
    },
    {
     "name": "stdout",
     "output_type": "stream",
     "text": [
      "Index(['dialog', 'act', 'emotion'], dtype='object')\n"
     ]
    }
   ],
   "source": [
    "# Load the dataset\n",
    "df = pd.read_csv(\"../data/chat_datasets/emotionlines.csv\")\n",
    "print(\"✅ Data Loaded\")\n",
    "display(df.head())\n",
    "print(df.columns)"
   ]
  },
  {
   "cell_type": "code",
   "execution_count": 13,
   "id": "b75980d6",
   "metadata": {},
   "outputs": [
    {
     "name": "stdout",
     "output_type": "stream",
     "text": [
      "<class 'pandas.core.frame.DataFrame'>\n",
      "RangeIndex: 11118 entries, 0 to 11117\n",
      "Data columns (total 3 columns):\n",
      " #   Column   Non-Null Count  Dtype \n",
      "---  ------   --------------  ----- \n",
      " 0   dialog   11118 non-null  object\n",
      " 1   act      11118 non-null  object\n",
      " 2   emotion  11118 non-null  object\n",
      "dtypes: object(3)\n",
      "memory usage: 260.7+ KB\n"
     ]
    }
   ],
   "source": [
    "# Dataset info\n",
    "df.info()"
   ]
  },
  {
   "cell_type": "code",
   "execution_count": 14,
   "id": "6c7e2908",
   "metadata": {},
   "outputs": [
    {
     "name": "stdout",
     "output_type": "stream",
     "text": [
      "\n",
      "Missing values:\n",
      " dialog     0\n",
      "act        0\n",
      "emotion    0\n",
      "dtype: int64\n"
     ]
    }
   ],
   "source": [
    "# Check for missing values\n",
    "print(\"\\nMissing values:\\n\", df.isnull().sum())"
   ]
  },
  {
   "cell_type": "code",
   "execution_count": 15,
   "id": "46088cca",
   "metadata": {},
   "outputs": [],
   "source": [
    "# Convert emotion column (stringified lists) into Python lists\n",
    "emotion_lists = df[\"emotion\"].dropna().apply(ast.literal_eval)"
   ]
  },
  {
   "cell_type": "code",
   "execution_count": 16,
   "id": "42195871",
   "metadata": {},
   "outputs": [],
   "source": [
    "\n",
    "# Flatten all emotion tags into one list\n",
    "flat_emotions = [label for sublist in emotion_lists for label in sublist]"
   ]
  },
  {
   "cell_type": "code",
   "execution_count": 17,
   "id": "c4dd85d0",
   "metadata": {},
   "outputs": [],
   "source": [
    "# Count how many of each label\n",
    "emotion_counts = Counter(flat_emotions)"
   ]
  },
  {
   "cell_type": "code",
   "execution_count": 18,
   "id": "d676d8a0",
   "metadata": {},
   "outputs": [],
   "source": [
    "# Map index to readable label\n",
    "emotion_labels = {\n",
    "    0: \"no emotion\",\n",
    "    1: \"anger\",\n",
    "    2: \"disgust\",\n",
    "    3: \"fear\",\n",
    "    4: \"happiness\",\n",
    "    5: \"sadness\",\n",
    "    6: \"surprise\"\n",
    "}"
   ]
  },
  {
   "cell_type": "code",
   "execution_count": 19,
   "id": "1f832896",
   "metadata": {},
   "outputs": [],
   "source": [
    "# Create a mapped count dictionary\n",
    "mapped_counts = {emotion_labels[k]: v for k, v in emotion_counts.items()}\n"
   ]
  },
  {
   "cell_type": "code",
   "execution_count": 20,
   "id": "65228bad",
   "metadata": {},
   "outputs": [
    {
     "name": "stderr",
     "output_type": "stream",
     "text": [
      "C:\\Users\\DELL\\AppData\\Local\\Temp\\ipykernel_10292\\1672992751.py:3: FutureWarning: \n",
      "\n",
      "Passing `palette` without assigning `hue` is deprecated and will be removed in v0.14.0. Assign the `x` variable to `hue` and set `legend=False` for the same effect.\n",
      "\n",
      "  sns.barplot(x=list(mapped_counts.keys()), y=list(mapped_counts.values()), palette=\"pastel\")\n"
     ]
    },
    {
     "data": {
      "image/png": "[encoded data removed]",
      "text/plain": [
       "<Figure size 800x600 with 1 Axes>"
      ]
     },
     "metadata": {},
     "output_type": "display_data"
    }
   ],
   "source": [
    "# Plot the bar chart\n",
    "plt.figure(figsize=(8, 6))\n",
    "sns.barplot(x=list(mapped_counts.keys()), y=list(mapped_counts.values()), palette=\"pastel\")\n",
    "plt.title(\"Emotion Distribution\")\n",
    "plt.xlabel(\"Emotion\")\n",
    "plt.ylabel(\"Frequency\")\n",
    "plt.xticks(rotation=45)\n",
    "plt.tight_layout()\n",
    "plt.show()"
   ]
  },
  {
   "cell_type": "code",
   "execution_count": null,
   "id": "e4cefcf7",
   "metadata": {},
   "outputs": [],
   "source": []
  },
  {
   "cell_type": "code",
   "execution_count": null,
   "id": "9785b305",
   "metadata": {},
   "outputs": [],
   "source": []
  }
 ],
 "metadata": {
  "kernelspec": {
   "display_name": "venv",
   "language": "python",
   "name": "python3"
  },
  "language_info": {
   "codemirror_mode": {
    "name": "ipython",
    "version": 3
   },
   "file_extension": ".py",
   "mimetype": "text/x-python",
   "name": "python",
   "nbconvert_exporter": "python",
   "pygments_lexer": "ipython3",
   "version": "3.12.7"
  }
 },
 "nbformat": 4,
 "nbformat_minor": 5
}
