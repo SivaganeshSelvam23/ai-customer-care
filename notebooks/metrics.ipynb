{
 "cells": [
  {
   "cell_type": "code",
   "execution_count": 1,
   "id": "42e16d8d",
   "metadata": {},
   "outputs": [
    {
     "name": "stderr",
     "output_type": "stream",
     "text": [
      "f:\\MySelf\\ai-customer-care\\venv\\Lib\\site-packages\\tqdm\\auto.py:21: TqdmWarning: IProgress not found. Please update jupyter and ipywidgets. See https://ipywidgets.readthedocs.io/en/stable/user_install.html\n",
      "  from .autonotebook import tqdm as notebook_tqdm\n"
     ]
    }
   ],
   "source": [
    "# ✅ Setup\n",
    "import numpy as np\n",
    "import pandas as pd\n",
    "import matplotlib.pyplot as plt\n",
    "from sklearn.metrics import classification_report, confusion_matrix, ConfusionMatrixDisplay, roc_auc_score\n",
    "from sklearn.preprocessing import label_binarize\n",
    "from transformers import RobertaTokenizerFast, RobertaForSequenceClassification, Trainer, TrainingArguments\n",
    "import torch\n",
    "from datasets import Dataset\n",
    "from sklearn.preprocessing import label_binarize\n",
    "from sklearn.metrics import ConfusionMatrixDisplay"
   ]
  },
  {
   "cell_type": "code",
   "execution_count": 2,
   "id": "07385f0e",
   "metadata": {},
   "outputs": [
    {
     "name": "stderr",
     "output_type": "stream",
     "text": [
      "f:\\MySelf\\ai-customer-care\\venv\\Lib\\site-packages\\huggingface_hub\\file_download.py:943: FutureWarning: `resume_download` is deprecated and will be removed in version 1.0.0. Downloads always resume when possible. If you want to force a new download, use `force_download=True`.\n",
      "  warnings.warn(\n"
     ]
    },
    {
     "data": {
      "text/plain": [
       "RobertaForSequenceClassification(\n",
       "  (roberta): RobertaModel(\n",
       "    (embeddings): RobertaEmbeddings(\n",
       "      (word_embeddings): Embedding(50265, 768, padding_idx=1)\n",
       "      (position_embeddings): Embedding(514, 768, padding_idx=1)\n",
       "      (token_type_embeddings): Embedding(1, 768)\n",
       "      (LayerNorm): LayerNorm((768,), eps=1e-05, elementwise_affine=True)\n",
       "      (dropout): Dropout(p=0.1, inplace=False)\n",
       "    )\n",
       "    (encoder): RobertaEncoder(\n",
       "      (layer): ModuleList(\n",
       "        (0-11): 12 x RobertaLayer(\n",
       "          (attention): RobertaAttention(\n",
       "            (self): RobertaSelfAttention(\n",
       "              (query): Linear(in_features=768, out_features=768, bias=True)\n",
       "              (key): Linear(in_features=768, out_features=768, bias=True)\n",
       "              (value): Linear(in_features=768, out_features=768, bias=True)\n",
       "              (dropout): Dropout(p=0.1, inplace=False)\n",
       "            )\n",
       "            (output): RobertaSelfOutput(\n",
       "              (dense): Linear(in_features=768, out_features=768, bias=True)\n",
       "              (LayerNorm): LayerNorm((768,), eps=1e-05, elementwise_affine=True)\n",
       "              (dropout): Dropout(p=0.1, inplace=False)\n",
       "            )\n",
       "          )\n",
       "          (intermediate): RobertaIntermediate(\n",
       "            (dense): Linear(in_features=768, out_features=3072, bias=True)\n",
       "            (intermediate_act_fn): GELUActivation()\n",
       "          )\n",
       "          (output): RobertaOutput(\n",
       "            (dense): Linear(in_features=3072, out_features=768, bias=True)\n",
       "            (LayerNorm): LayerNorm((768,), eps=1e-05, elementwise_affine=True)\n",
       "            (dropout): Dropout(p=0.1, inplace=False)\n",
       "          )\n",
       "        )\n",
       "      )\n",
       "    )\n",
       "  )\n",
       "  (classifier): RobertaClassificationHead(\n",
       "    (dense): Linear(in_features=768, out_features=768, bias=True)\n",
       "    (dropout): Dropout(p=0.1, inplace=False)\n",
       "    (out_proj): Linear(in_features=768, out_features=7, bias=True)\n",
       "  )\n",
       ")"
      ]
     },
     "execution_count": 2,
     "metadata": {},
     "output_type": "execute_result"
    }
   ],
   "source": [
    "# ✅ Load model and tokenizer\n",
    "model_path = \"F:/MySelf/ai-customer-care/backend/models/roberta-sentiment\"  \n",
    "tokenizer = RobertaTokenizerFast.from_pretrained(\"roberta-base\")\n",
    "model = RobertaForSequenceClassification.from_pretrained(model_path)\n",
    "model.eval()"
   ]
  },
  {
   "cell_type": "code",
   "execution_count": 3,
   "id": "a351868e",
   "metadata": {},
   "outputs": [
    {
     "name": "stderr",
     "output_type": "stream",
     "text": [
      "Map: 100%|██████████| 1731/1731 [00:00<00:00, 9181.80 examples/s]\n"
     ]
    }
   ],
   "source": [
    "# ✅ Load and preprocess evaluation dataset\n",
    "df = pd.read_csv(\"F:/MySelf/ai-customer-care/data/chat_datasets/customer_care_dataset_flat.csv\")\n",
    "df = df[[\"utterance\", \"emotion\"]]\n",
    "unique_labels = sorted(df[\"emotion\"].unique())\n",
    "label2id = {str(label): i for i, label in enumerate(unique_labels)}\n",
    "id2label = {i: str(label) for label, i in label2id.items()}\n",
    "df[\"label\"] = df[\"emotion\"].map(lambda x: label2id[str(x)])\n",
    "\n",
    "def tokenize(example):\n",
    "    return tokenizer(example[\"utterance\"], truncation=True, padding=\"max_length\", max_length=64)\n",
    "\n",
    "dataset = Dataset.from_pandas(df[[\"utterance\", \"label\"]])\n",
    "dataset = dataset.map(tokenize)\n",
    "eval_dataset = dataset.train_test_split(test_size=0.2, seed=42)[\"test\"]"
   ]
  },
  {
   "cell_type": "code",
   "execution_count": 4,
   "id": "7a0bcb66",
   "metadata": {},
   "outputs": [],
   "source": [
    "# ✅ Define training args and load Trainer\n",
    "training_args = TrainingArguments(output_dir=\"./models/roberta-sentiment\")\n",
    "trainer = Trainer(\n",
    "    model=model,\n",
    "    args=training_args\n",
    ")"
   ]
  },
  {
   "cell_type": "code",
   "execution_count": 5,
   "id": "c142ead5",
   "metadata": {},
   "outputs": [],
   "source": [
    "# Tokenize\n",
    "encoded = tokenizer(eval_dataset[\"utterance\"], padding=True, truncation=True, max_length=64, return_tensors=\"pt\")\n",
    "labels = torch.tensor(eval_dataset[\"label\"])"
   ]
  },
  {
   "cell_type": "code",
   "execution_count": 6,
   "id": "43649208",
   "metadata": {},
   "outputs": [
    {
     "name": "stderr",
     "output_type": "stream",
     "text": [
      "f:\\MySelf\\ai-customer-care\\venv\\Lib\\site-packages\\torch\\utils\\data\\dataloader.py:665: UserWarning: 'pin_memory' argument is set as true but no accelerator is found, then device pinned memory won't be used.\n",
      "  warnings.warn(warn_msg)\n",
      "100%|██████████| 44/44 [00:11<00:00,  3.99it/s]\n"
     ]
    }
   ],
   "source": [
    "# ✅ Run evaluation\n",
    "predictions = trainer.predict(eval_dataset)\n",
    "preds = np.argmax(predictions.predictions, axis=1)\n",
    "labels = predictions.label_ids"
   ]
  },
  {
   "cell_type": "code",
   "execution_count": 7,
   "id": "18bfd48b",
   "metadata": {},
   "outputs": [
    {
     "name": "stdout",
     "output_type": "stream",
     "text": [
      "Classification Report:\n",
      "              precision    recall  f1-score   support\n",
      "\n",
      "           0       0.64      0.64      0.64        55\n",
      "           1       0.85      0.73      0.79        48\n",
      "           2       0.78      0.89      0.83        36\n",
      "           3       0.76      0.82      0.79        67\n",
      "           4       0.79      0.80      0.80        51\n",
      "           5       0.68      0.70      0.69        40\n",
      "           6       0.78      0.70      0.74        50\n",
      "\n",
      "    accuracy                           0.75       347\n",
      "   macro avg       0.75      0.75      0.75       347\n",
      "weighted avg       0.75      0.75      0.75       347\n",
      "\n"
     ]
    }
   ],
   "source": [
    "# 📊 Classification Report\n",
    "print(\"Classification Report:\")\n",
    "print(classification_report(labels, preds, target_names=[str(id2label[i]) for i in sorted(id2label.keys())]))"
   ]
  },
  {
   "cell_type": "code",
   "execution_count": 8,
   "id": "b7689210",
   "metadata": {},
   "outputs": [
    {
     "data": {
      "image/png": "[encoded data removed]",
      "text/plain": [
       "<Figure size 640x480 with 2 Axes>"
      ]
     },
     "metadata": {},
     "output_type": "display_data"
    }
   ],
   "source": [
    "# 📉 Confusion Matrix\n",
    "cm = confusion_matrix(labels, preds)\n",
    "disp = ConfusionMatrixDisplay(confusion_matrix=cm, display_labels=[str(id2label[i]) for i in sorted(id2label.keys())])\n",
    "disp.plot(cmap=\"Blues\", xticks_rotation=45)\n",
    "plt.title(\"Confusion Matrix\")\n",
    "plt.show()"
   ]
  },
  {
   "cell_type": "code",
   "execution_count": 9,
   "id": "3d26426b",
   "metadata": {},
   "outputs": [
    {
     "name": "stdout",
     "output_type": "stream",
     "text": [
      "ROC AUC Score (macro-averaged): 0.9542\n"
     ]
    }
   ],
   "source": [
    "# 🔥 ROC AUC Score\n",
    "try:\n",
    "    y_true_bin = label_binarize(labels, classes=list(range(len(label2id))))\n",
    "    y_score = predictions.predictions  # raw logits\n",
    "    roc_auc = roc_auc_score(y_true_bin, y_score, average=\"macro\", multi_class=\"ovr\")\n",
    "    print(f\"ROC AUC Score (macro-averaged): {roc_auc:.4f}\")\n",
    "except Exception as e:\n",
    "    print(\"⚠️ Could not compute ROC AUC:\", e)"
   ]
  },
  {
   "cell_type": "code",
   "execution_count": null,
   "id": "3277671e",
   "metadata": {},
   "outputs": [],
   "source": []
  }
 ],
 "metadata": {
  "kernelspec": {
   "display_name": "venv",
   "language": "python",
   "name": "python3"
  },
  "language_info": {
   "codemirror_mode": {
    "name": "ipython",
    "version": 3
   },
   "file_extension": ".py",
   "mimetype": "text/x-python",
   "name": "python",
   "nbconvert_exporter": "python",
   "pygments_lexer": "ipython3",
   "version": "3.12.7"
  }
 },
 "nbformat": 4,
 "nbformat_minor": 5
}
