{
 "cells": [
  {
   "cell_type": "code",
   "execution_count": 6,
   "id": "42e16d8d",
   "metadata": {},
   "outputs": [],
   "source": [
    "# ✅ Setup\n",
    "import numpy as np\n",
    "import pandas as pd\n",
    "import matplotlib.pyplot as plt\n",
    "from sklearn.metrics import classification_report, confusion_matrix, ConfusionMatrixDisplay, roc_auc_score\n",
    "from sklearn.preprocessing import label_binarize\n",
    "from transformers import RobertaTokenizerFast, RobertaForSequenceClassification, Trainer, TrainingArguments\n",
    "import torch\n",
    "from datasets import Dataset\n"
   ]
  },
  {
   "cell_type": "code",
   "execution_count": 7,
   "id": "07385f0e",
   "metadata": {},
   "outputs": [
    {
     "data": {
      "text/plain": [
       "RobertaForSequenceClassification(\n",
       "  (roberta): RobertaModel(\n",
       "    (embeddings): RobertaEmbeddings(\n",
       "      (word_embeddings): Embedding(50265, 768, padding_idx=1)\n",
       "      (position_embeddings): Embedding(514, 768, padding_idx=1)\n",
       "      (token_type_embeddings): Embedding(1, 768)\n",
       "      (LayerNorm): LayerNorm((768,), eps=1e-05, elementwise_affine=True)\n",
       "      (dropout): Dropout(p=0.1, inplace=False)\n",
       "    )\n",
       "    (encoder): RobertaEncoder(\n",
       "      (layer): ModuleList(\n",
       "        (0-11): 12 x RobertaLayer(\n",
       "          (attention): RobertaAttention(\n",
       "            (self): RobertaSelfAttention(\n",
       "              (query): Linear(in_features=768, out_features=768, bias=True)\n",
       "              (key): Linear(in_features=768, out_features=768, bias=True)\n",
       "              (value): Linear(in_features=768, out_features=768, bias=True)\n",
       "              (dropout): Dropout(p=0.1, inplace=False)\n",
       "            )\n",
       "            (output): RobertaSelfOutput(\n",
       "              (dense): Linear(in_features=768, out_features=768, bias=True)\n",
       "              (LayerNorm): LayerNorm((768,), eps=1e-05, elementwise_affine=True)\n",
       "              (dropout): Dropout(p=0.1, inplace=False)\n",
       "            )\n",
       "          )\n",
       "          (intermediate): RobertaIntermediate(\n",
       "            (dense): Linear(in_features=768, out_features=3072, bias=True)\n",
       "            (intermediate_act_fn): GELUActivation()\n",
       "          )\n",
       "          (output): RobertaOutput(\n",
       "            (dense): Linear(in_features=3072, out_features=768, bias=True)\n",
       "            (LayerNorm): LayerNorm((768,), eps=1e-05, elementwise_affine=True)\n",
       "            (dropout): Dropout(p=0.1, inplace=False)\n",
       "          )\n",
       "        )\n",
       "      )\n",
       "    )\n",
       "  )\n",
       "  (classifier): RobertaClassificationHead(\n",
       "    (dense): Linear(in_features=768, out_features=768, bias=True)\n",
       "    (dropout): Dropout(p=0.1, inplace=False)\n",
       "    (out_proj): Linear(in_features=768, out_features=7, bias=True)\n",
       "  )\n",
       ")"
      ]
     },
     "execution_count": 7,
     "metadata": {},
     "output_type": "execute_result"
    }
   ],
   "source": [
    "# ✅ Load model and tokenizer\n",
    "model_path = \"F:/MySelf/ai-customer-care/backend/models/roberta-sentiment\"  \n",
    "tokenizer = RobertaTokenizerFast.from_pretrained(\"roberta-base\")\n",
    "model = RobertaForSequenceClassification.from_pretrained(model_path)\n",
    "model.eval()"
   ]
  },
  {
   "cell_type": "code",
   "execution_count": 8,
   "id": "a351868e",
   "metadata": {},
   "outputs": [
    {
     "name": "stderr",
     "output_type": "stream",
     "text": [
      "Map: 100%|██████████| 1386/1386 [00:00<00:00, 4235.74 examples/s]\n"
     ]
    }
   ],
   "source": [
    "# ✅ Load and preprocess evaluation dataset\n",
    "df = pd.read_csv(\"F:/MySelf/ai-customer-care/data/chat_datasets/customer_care_dataset_flat.csv\")\n",
    "df = df[[\"utterance\", \"emotion\"]]\n",
    "label2id = {label: i for i, label in enumerate(df[\"emotion\"].unique())}\n",
    "id2label = {v: k for k, v in label2id.items()}\n",
    "df[\"label\"] = df[\"emotion\"].map(label2id)\n",
    "\n",
    "def tokenize(example):\n",
    "    return tokenizer(example[\"utterance\"], truncation=True, padding=\"max_length\", max_length=64)\n",
    "\n",
    "dataset = Dataset.from_pandas(df[[\"utterance\", \"label\"]])\n",
    "dataset = dataset.map(tokenize)\n",
    "eval_dataset = dataset.train_test_split(test_size=0.2, seed=42)[\"test\"]"
   ]
  },
  {
   "cell_type": "code",
   "execution_count": 9,
   "id": "7a0bcb66",
   "metadata": {},
   "outputs": [],
   "source": [
    "# ✅ Define training args and load Trainer\n",
    "training_args = TrainingArguments(output_dir=\"./models/roberta-sentiment\")\n",
    "trainer = Trainer(\n",
    "    model=model,\n",
    "    args=training_args\n",
    ")"
   ]
  },
  {
   "cell_type": "code",
   "execution_count": 10,
   "id": "c142ead5",
   "metadata": {},
   "outputs": [],
   "source": [
    "# Tokenize\n",
    "encoded = tokenizer(eval_dataset[\"utterance\"], padding=True, truncation=True, max_length=64, return_tensors=\"pt\")\n",
    "labels = torch.tensor(eval_dataset[\"label\"])"
   ]
  },
  {
   "cell_type": "code",
   "execution_count": 11,
   "id": "43649208",
   "metadata": {},
   "outputs": [
    {
     "name": "stderr",
     "output_type": "stream",
     "text": [
      "f:\\MySelf\\ai-customer-care\\venv\\Lib\\site-packages\\torch\\utils\\data\\dataloader.py:665: UserWarning: 'pin_memory' argument is set as true but no accelerator is found, then device pinned memory won't be used.\n",
      "  warnings.warn(warn_msg)\n",
      "100%|██████████| 35/35 [00:10<00:00,  3.34it/s]\n"
     ]
    }
   ],
   "source": [
    "# ✅ Run evaluation\n",
    "predictions = trainer.predict(eval_dataset)\n",
    "preds = np.argmax(predictions.predictions, axis=1)\n",
    "labels = predictions.label_ids"
   ]
  },
  {
   "cell_type": "code",
   "execution_count": 12,
   "id": "18bfd48b",
   "metadata": {},
   "outputs": [
    {
     "name": "stdout",
     "output_type": "stream",
     "text": [
      "Classification Report:\n",
      "              precision    recall  f1-score   support\n",
      "\n",
      "           6       0.06      0.08      0.07        36\n",
      "           0       0.00      0.00      0.00        41\n",
      "           1       0.00      0.00      0.00        51\n",
      "           5       0.05      0.02      0.03        43\n",
      "           4       0.80      0.87      0.83        52\n",
      "           2       0.00      0.00      0.00        26\n",
      "           3       0.02      0.03      0.03        29\n",
      "\n",
      "    accuracy                           0.18       278\n",
      "   macro avg       0.13      0.14      0.14       278\n",
      "weighted avg       0.17      0.18      0.17       278\n",
      "\n"
     ]
    }
   ],
   "source": [
    "# 📊 Classification Report\n",
    "print(\"Classification Report:\")\n",
    "print(classification_report(labels, preds, target_names=[str(id2label[i]) for i in sorted(id2label.keys())]))"
   ]
  },
  {
   "cell_type": "code",
   "execution_count": 13,
   "id": "b7689210",
   "metadata": {},
   "outputs": [
    {
     "data": {
      "image/png": "[encoded data removed]",
      "text/plain": [
       "<Figure size 640x480 with 2 Axes>"
      ]
     },
     "metadata": {},
     "output_type": "display_data"
    }
   ],
   "source": [
    "# 📉 Confusion Matrix\n",
    "cm = confusion_matrix(labels, preds)\n",
    "disp = ConfusionMatrixDisplay(confusion_matrix=cm, display_labels=[str(id2label[i]) for i in sorted(id2label.keys())])\n",
    "disp.plot(xticks_rotation=45, cmap=\"Blues\")\n",
    "plt.title(\"Confusion Matrix\")\n",
    "plt.tight_layout()\n",
    "plt.show()"
   ]
  },
  {
   "cell_type": "code",
   "execution_count": 14,
   "id": "3d26426b",
   "metadata": {},
   "outputs": [
    {
     "name": "stdout",
     "output_type": "stream",
     "text": [
      "🔥 ROC AUC Score (macro-averaged): 0.5081\n"
     ]
    }
   ],
   "source": [
    "# 🔥 ROC AUC Score\n",
    "try:\n",
    "    y_true = label_binarize(labels, classes=list(range(len(id2label))))\n",
    "    y_scores = predictions.predictions  # Raw logits\n",
    "    auc_score = roc_auc_score(y_true, y_scores, multi_class='ovr')\n",
    "    print(f\"🔥 ROC AUC Score (macro-averaged): {auc_score:.4f}\")\n",
    "except Exception as e:\n",
    "    print(\"⚠️ Could not compute ROC AUC:\", e)"
   ]
  },
  {
   "cell_type": "code",
   "execution_count": null,
   "id": "3277671e",
   "metadata": {},
   "outputs": [],
   "source": []
  }
 ],
 "metadata": {
  "kernelspec": {
   "display_name": "venv",
   "language": "python",
   "name": "python3"
  },
  "language_info": {
   "codemirror_mode": {
    "name": "ipython",
    "version": 3
   },
   "file_extension": ".py",
   "mimetype": "text/x-python",
   "name": "python",
   "nbconvert_exporter": "python",
   "pygments_lexer": "ipython3",
   "version": "3.12.7"
  }
 },
 "nbformat": 4,
 "nbformat_minor": 5
}
